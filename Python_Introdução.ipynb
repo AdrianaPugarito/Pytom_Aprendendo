{
  "nbformat": 4,
  "nbformat_minor": 0,
  "metadata": {
    "colab": {
      "name": "Python Introdução",
      "provenance": [],
      "authorship_tag": "ABX9TyPasnz7mYd5czIHZrZjYoWu",
      "include_colab_link": true
    },
    "kernelspec": {
      "name": "python3",
      "display_name": "Python 3"
    },
    "language_info": {
      "name": "python"
    }
  },
  "cells": [
    {
      "cell_type": "markdown",
      "metadata": {
        "id": "view-in-github",
        "colab_type": "text"
      },
      "source": [
        "<a href=\"https://colab.research.google.com/github/AdrianaPugarito/Pytom_Aprendendo/blob/main/Python_Introdu%C3%A7%C3%A3o.ipynb\" target=\"_parent\"><img src=\"https://colab.research.google.com/assets/colab-badge.svg\" alt=\"Open In Colab\"/></a>"
      ]
    },
    {
      "cell_type": "markdown",
      "metadata": {
        "id": "RlRjzLz4osx2"
      },
      "source": [
        "#A Linguagem Python"
      ]
    },
    {
      "cell_type": "code",
      "metadata": {
        "colab": {
          "base_uri": "https://localhost:8080/"
        },
        "id": "rddwm6vZpQgf",
        "outputId": "8498a3ae-a61c-43ee-8a4b-d26daeb2dfd4"
      },
      "source": [
        "print(\"Hello Galera\")"
      ],
      "execution_count": null,
      "outputs": [
        {
          "output_type": "stream",
          "text": [
            "Hello Galera\n"
          ],
          "name": "stdout"
        }
      ]
    },
    {
      "cell_type": "markdown",
      "metadata": {
        "id": "egua3du0qsCK"
      },
      "source": [
        "#Tipos de dados em Python\n"
      ]
    },
    {
      "cell_type": "code",
      "metadata": {
        "colab": {
          "base_uri": "https://localhost:8080/"
        },
        "id": "0ORVm_GUqyI6",
        "outputId": "16561eed-e246-4b4f-95bc-7de1b3cf22e7"
      },
      "source": [
        "print(type(27)) # o tipo de dados do numeros é int(numero inteiro) se coloco entre aspas é str string\n",
        "print(type(5.7)) # o tipo de dados do numeros é float(numeros decimal)\n",
        "print(type(5.7 + 27j)) # o tipo de dados do numeros é complex(numero complex)\n",
        "print(type(\"Isso é um texto \\n\")) #entre aspas é uma string str\n",
        "print(type(True)) #o tipo de texto False ou True é um boleano bol deve ir com maiusculas\n"
      ],
      "execution_count": null,
      "outputs": [
        {
          "output_type": "stream",
          "text": [
            "<class 'int'>\n",
            "<class 'float'>\n",
            "<class 'complex'>\n",
            "<class 'str'>\n",
            "<class 'bool'>\n"
          ],
          "name": "stdout"
        }
      ]
    },
    {
      "cell_type": "markdown",
      "metadata": {
        "id": "0PvxIUyXKzuo"
      },
      "source": [
        "# Variáveis \n"
      ]
    },
    {
      "cell_type": "code",
      "metadata": {
        "colab": {
          "base_uri": "https://localhost:8080/"
        },
        "id": "uMTCb6PaLhdh",
        "outputId": "4097e06a-640c-4664-d1bb-b7f04112b630"
      },
      "source": [
        "nome = \"Adriana\" #variável seu valor é Adriana e os nomes das variáveis são em inglês\n",
        "numero = 41\n",
        "fracao = 8.5\n",
        "print(nome, numero, fracao) #o print imprime e para imprimer varias variáveis temos que separar por virgulas"
      ],
      "execution_count": null,
      "outputs": [
        {
          "output_type": "stream",
          "text": [
            "Adriana 41 8.5\n"
          ],
          "name": "stdout"
        }
      ]
    },
    {
      "cell_type": "markdown",
      "metadata": {
        "id": "7lCUD7yEOv6H"
      },
      "source": [
        "#Concatenação e conversão de tipos de variáveis"
      ]
    },
    {
      "cell_type": "code",
      "metadata": {
        "colab": {
          "base_uri": "https://localhost:8080/"
        },
        "id": "RUNVuYkgO_2_",
        "outputId": "d3ec926b-4ae1-4e66-950c-bea6b1b9ffac"
      },
      "source": [
        "#Concatenar é como sumar as duas variáveis\n",
        "nome = \"Adriana\"\n",
        "sobrenome = \"Lucia\"\n",
        "idade = 41 # não pode concatenar uma strig com outra, para que a idade seja declarada como variável tem que ter aspas\n",
        "idade = \"41\" # essa é a forma correta, so consegue concatenar string com enteiros\n",
        "\n",
        "primeiro_numero = 20\n",
        "segundo_numero = 21\n",
        "#print(primeiro_numero + segundo_numero) # não vai concatenar porque não tem aspas\n",
        "\n",
        "primeiro_numero = \"20\"\n",
        "segundo_numero = \"21\"\n",
        "print(type(primeiro_numero +\" \" +segundo_numero))\n",
        "\n",
        "nome = input(\"Digite seu nome \") #o imput espera que voce coloque os dados e se esta sem aspas e quando os dados estão \n",
        "\n",
        "print(type(idade))\n",
        "\n",
        "print(nome, sobrenome, idade)\n",
        "print(nome + \" \" +sobrenome) # a strinr vacia no medio que esta entre aspas é so para espaço\n",
        "print(\"Oi meu nome é: \" + nome +\" \" + sobrenome + \" e minha idade é \" + str(idade)) #se eu quero imprimir minha idade como enteiro tem que colocar que ela e uma string\n",
        "print(\"Oi meu nome é: \" ,nome, \" e minha idade é \",idade,) #as virgulas são formatadoras também esse pode ser outra forma de fazer\n",
        "\n",
        "print(type(idade))\n",
        "print(type(str(idade))) #resulta STR\n",
        "\n",
        "print(type(idade))\n",
        "\n",
        "str()\n",
        "\n",
        "numero_inteiro = 100\n",
        "numero = float(numero_inteiro)\n",
        "print(numero_inteiro, numero)\n",
        "\n",
        "#teste_conversão = \"45a\" voce não pode converter nada absurdo nem numero con letra, barra ou outra coisa com ponto sim\n",
        "teste_conversão = 45.1\n",
        "teste_conversão_string = float(teste_conversão)\n",
        "print(teste_conversão)\n",
        "print(teste_conversão_string)\n",
        "\n",
        "numero_complexo_string = \"1+5j\" #sem espaços entre + e cada numero porque ele pega os espaços como caracter e da erro\n",
        "numero_complexo = complex(numero_complexo_string)\n"
      ],
      "execution_count": null,
      "outputs": [
        {
          "output_type": "stream",
          "text": [
            "<class 'str'>\n",
            "Digite seu nome Adriana\n",
            "<class 'str'>\n",
            "Adriana Lucia 41\n",
            "Adriana Lucia\n",
            "Oi meu nome é: Adriana Lucia e minha idade é 41\n",
            "Oi meu nome é:  Adriana  e minha idade é  41\n",
            "<class 'str'>\n",
            "<class 'str'>\n",
            "<class 'str'>\n",
            "100 100.0\n",
            "45.1\n",
            "45.1\n"
          ],
          "name": "stdout"
        }
      ]
    },
    {
      "cell_type": "markdown",
      "metadata": {
        "id": "LVuZcf6XWoBl"
      },
      "source": [
        "#Quem é vocé? Imprima seu nome, sua idade e qual será sua idade no próximo ano.\n"
      ]
    },
    {
      "cell_type": "code",
      "metadata": {
        "colab": {
          "base_uri": "https://localhost:8080/"
        },
        "id": "uT187fN_W1tM",
        "outputId": "4258bbd1-93de-42ad-9678-95c969145635"
      },
      "source": [
        "nome = \"Adriana\"\n",
        "idade = 41 #tem que ser sem aspas para ele saber que e um enteiro\n",
        "\n",
        "print(\"Meu nome é \" + nome + \" tenho \" + str(idade) + \" o ano que vem minha idade será \" + str(idade + 1))"
      ],
      "execution_count": null,
      "outputs": [
        {
          "output_type": "stream",
          "text": [
            "Meu nome é Adriana tenho 41 o ano que vem minha idade será 42\n"
          ],
          "name": "stdout"
        }
      ]
    },
    {
      "cell_type": "markdown",
      "metadata": {
        "id": "IibQ8tHGbSQV"
      },
      "source": [
        "#Operação com boleanos"
      ]
    },
    {
      "cell_type": "code",
      "metadata": {
        "colab": {
          "base_uri": "https://localhost:8080/"
        },
        "id": "YCJNEdEPbWUw",
        "outputId": "8d2f5af1-abb3-4a93-de2f-b2a49c88b8eb"
      },
      "source": [
        "True + True # quando eu falo pra o computador que tenho um true ele entende que e um numero 1\n",
        "True * False #quando eu falo pra o computador que tenho um false ele entende que e um numero 0\n",
        "(True + 4) * False #todo numero multiplicado por zero da zero\n",
        "(True + 4) * True #ele faz primeiro o que esta entre parênteses"
      ],
      "execution_count": null,
      "outputs": [
        {
          "output_type": "execute_result",
          "data": {
            "text/plain": [
              "5"
            ]
          },
          "metadata": {
            "tags": []
          },
          "execution_count": 40
        }
      ]
    },
    {
      "cell_type": "markdown",
      "metadata": {
        "id": "k6RKoKNpcfsd"
      },
      "source": [
        "\n",
        "#Entre com o valor da conta de un restaurant e calcule a gorjeta do garçom, nesse restaurant a gorjeta do garçom é de 10 por cento\n"
      ]
    },
    {
      "cell_type": "code",
      "metadata": {
        "colab": {
          "base_uri": "https://localhost:8080/"
        },
        "id": "TFKgx78tgDG_",
        "outputId": "2bb8e0d2-064d-4fcd-8ac4-9463296e12ca"
      },
      "source": [
        "valor_da_conta = float(input(\"Insira o valor da conta \")) # float numero flutuante contem o input que e uma função que recebe um valor\n",
        "gorjeta = valor_da_conta * 0.10\n",
        "print(valor_da_conta)\n",
        "print(gorjeta)\n"
      ],
      "execution_count": null,
      "outputs": [
        {
          "output_type": "stream",
          "text": [
            "Insira o valor da conta 500\n",
            "500.0\n",
            "50.0\n"
          ],
          "name": "stdout"
        }
      ]
    },
    {
      "cell_type": "markdown",
      "metadata": {
        "id": "vAJnIhHznpAn"
      },
      "source": [
        "#Manipulação de String\n"
      ]
    },
    {
      "cell_type": "code",
      "metadata": {
        "colab": {
          "base_uri": "https://localhost:8080/"
        },
        "id": "AwWBUDppnvZq",
        "outputId": "9922e450-99d2-4db0-fff0-b3c017d03eb2"
      },
      "source": [
        "teste = \"Primeiro Teste\"\n",
        "segundo_teste = \"Este é outro teste\"\n",
        "\n",
        "type(teste) #Tipo de dados da variável\n",
        "len(teste) #Tamanho da variável\n",
        "\n",
        "sub = teste.replace(teste, \"Lucia\") #Subtituçaõ do valor da variável\n",
        "\n",
        "print(teste.replace(teste, \"Lucia\")) #Assim também esta certo para fazer subtitução do valor da variável\n",
        "\n",
        "print(sub) #Concatenação"
      ],
      "execution_count": null,
      "outputs": [
        {
          "output_type": "stream",
          "text": [
            "Lucia\n",
            "Lucia\n"
          ],
          "name": "stdout"
        }
      ]
    },
    {
      "cell_type": "markdown",
      "metadata": {
        "id": "Vjzr7lDHxo78"
      },
      "source": [
        "#Operadores de Atribuição"
      ]
    },
    {
      "cell_type": "code",
      "metadata": {
        "colab": {
          "base_uri": "https://localhost:8080/"
        },
        "id": "037FZGzjxwHu",
        "outputId": "ee6df4a4-1fb3-4619-cee4-f292ca7c9058"
      },
      "source": [
        "a = 1\n",
        "b = 10\n",
        "c = 15\n",
        "d = 20\n",
        "e = 50\n",
        "\n",
        "a += 1 #equivalente a = +1 ou seja o valor de a e igual mais 1\n",
        "b -= 1 #equivalente b = -1 ou seja o valor de b e igual menos 1\n",
        "c *= 1 #equivalente c = *1 ou seja o valor de c e igual por 1\n",
        "d /= 1 #equivalente d = /1 ou seja o valor de d e igual entre\n",
        "e %= 1 #equivalente e = %1 ou seja o valor de e é igual  \n",
        "\n",
        "print(a)\n",
        "print(b)\n",
        "print(c)\n",
        "print(d)\n",
        "print(e)\n"
      ],
      "execution_count": null,
      "outputs": [
        {
          "output_type": "stream",
          "text": [
            "2\n",
            "9\n",
            "15\n",
            "20.0\n",
            "0\n"
          ],
          "name": "stdout"
        }
      ]
    },
    {
      "cell_type": "markdown",
      "metadata": {
        "id": "DPLY4iHROYsY"
      },
      "source": [
        "#Operadores de Comparação\n"
      ]
    },
    {
      "cell_type": "code",
      "metadata": {
        "id": "0vAFNZCaOiMP"
      },
      "source": [
        "print(7 == 7) # (==) Representa igualdade\n",
        "print(2.5 == 2.5)\n",
        "print(\"texto\" == \"texto\")\n",
        "\n",
        "A = \"(1 > 2)\"\n",
        "print(\"Valore de A:\", A) \n",
        "\n",
        "print( 10 > 9) # Verifica se numero da esquerda é maior ao número da direita\n",
        "print( 8 < 9) # Verifica se numero da esquerda é menor ao número da direita\n",
        "\n",
        "print( 10 >= 9) # Verifica se numero da esquerda é maior ou igual ao número da direita\n",
        "print( 7 <= 9) # Verifica se numero da esquerda é menor ou igual  ao número da direita\n",
        "\n",
        "print( 7 != 9) # Verifica se numero da esquerda é menor ou igual  ao número da direita\n"
      ],
      "execution_count": null,
      "outputs": []
    },
    {
      "cell_type": "markdown",
      "metadata": {
        "id": "h8JnXZOgRfSC"
      },
      "source": [
        "#Entendendo o que são os comentários de última/várias linhas\n",
        "\n",
        "\n",
        "\n"
      ]
    },
    {
      "cell_type": "code",
      "metadata": {
        "id": "MsIffZpXRxDb"
      },
      "source": [
        "# Esse é um comentario de uma linha\n",
        "# Outro comentário\n",
        "''' Esse é um comentario de uma linha '''"
      ],
      "execution_count": null,
      "outputs": []
    },
    {
      "cell_type": "markdown",
      "metadata": {
        "id": "sx7Z3R8sh-T-"
      },
      "source": [
        "#Exibindo valores númericos formatados"
      ]
    },
    {
      "cell_type": "code",
      "metadata": {
        "id": "CyUPDkG8iDT7"
      },
      "source": [
        "medida_polegada = float(input(\"Informe a medida em polegada: \"))\n",
        "medida_centimetro = medida_polegada * 2.54\n",
        "saida = \"A saida \" + str(medida_polegada) + \"polegadas em centimetros é: \" + str(medida_centimetro) # Não é possivel concatener valores númericos\n",
        "print(f\" A medida de {medida_polegada} polegadas em centimetro e:{medida_centimetro:.2f} \")\n",
        "print(saida)"
      ],
      "execution_count": null,
      "outputs": []
    },
    {
      "cell_type": "markdown",
      "metadata": {
        "id": "MKkxMbcTiV-q"
      },
      "source": [
        "#Formatação de blocos e indentação"
      ]
    },
    {
      "cell_type": "code",
      "metadata": {
        "id": "UtbJJbzKiYNn"
      },
      "source": [
        "print(\"Primeiro nível de indentação\")#primeiro nível \n",
        "\n",
        "if(True):\n",
        "  print(\"Segundo nível de indentação\")#segundo nível\n",
        "\n",
        "# A identação se aplica com 2 espaços ou um tab\n"
      ],
      "execution_count": null,
      "outputs": []
    },
    {
      "cell_type": "markdown",
      "metadata": {
        "id": "3RHpiVB7im-x"
      },
      "source": [
        "#Importando bibliotecas - Trabalhando com data e hora"
      ]
    },
    {
      "cell_type": "code",
      "metadata": {
        "id": "tjluQniUiqIM"
      },
      "source": [
        "from math import sqrt\n",
        "print(sqrt(25))\n",
        "\n",
        "from datetime import datetime\n",
        "from datetime import date\n",
        "from dateutil import tz\n",
        "\n",
        "\n",
        "data_hj = date(year=2021, month=8, day=25)\n",
        "print(data_hj)\n",
        " \n",
        "\n",
        "print(datetime.today()) # Data atual\n",
        "print(datetime.now().isoformat()) # Data atual\n",
        "\n",
        "print(datetime.today().strftime('%Y-%d-%m'))# Alterando o formato da data\n",
        "print(datetime.today().strftime('%Y-%m-%d %H:%M')) # Tirando os milesegundos\n",
        "print(datetime.today().strftime('%A, %B %d, %Y %H:%M:%S'))# Incluindo os dias da semana \n",
        "print(datetime.today(), tz.tzlocal()) # Data atual\n",
        "\n"
      ],
      "execution_count": null,
      "outputs": []
    },
    {
      "cell_type": "markdown",
      "metadata": {
        "id": "GdQSyhLUU-sd"
      },
      "source": [
        "#Números Formatados"
      ]
    },
    {
      "cell_type": "code",
      "metadata": {
        "colab": {
          "base_uri": "https://localhost:8080/"
        },
        "id": "U1zGZSyuVH4t",
        "outputId": "28a332a4-4934-4c4a-ddd9-4c6f5b7e9804"
      },
      "source": [
        "porcentagem = 0.10\n",
        "valor_conta = 500\n",
        "Gorjeta = \"A gorjeta do garçom\"\n",
        "\n",
        "# Gorjeta =\"A gorjeta do garçom é \" +  (porcentagem) * (valor_conta) # Errado\n",
        "print(Gorjeta)\n",
        "\n",
        "# Primeira solução\n",
        "Gorjeta =\"A gorjeta do garçom é \" +  str((porcentagem) * (valor_conta))\n",
        "print(Gorjeta, \"Conversão de tipos\")\n",
        "\n",
        "\n",
        "# print(\"A gorjeta do garçom é\" (porcetagem) * (valor_conta))\n",
        "\n",
        "porcentagem = 0.10\n",
        "valor_conta = 500\n",
        "Gorjeta1 = \"A gorjeta do garçom\"\n",
        "\n",
        "Gorjeta1 = porcentagem + valor_conta\n",
        "print (Gorjeta1)"
      ],
      "execution_count": null,
      "outputs": [
        {
          "output_type": "stream",
          "text": [
            "<class 'str'>\n",
            "A gorjeta do garçom é : A gorjeta do garçon é50.0\n"
          ],
          "name": "stdout"
        }
      ]
    },
    {
      "cell_type": "code",
      "metadata": {
        "id": "8dbXvNFxja04"
      },
      "source": [
        "porcentagem = 0.10\n",
        "valor_conta = 500\n",
        "Gorjeta1 = \"A gorjeta do garçom\"\n",
        "\n",
        "Gorjeta1 = porcentagem * valor_conta\n",
        "print (Gorjeta1)"
      ],
      "execution_count": null,
      "outputs": []
    },
    {
      "cell_type": "markdown",
      "metadata": {
        "id": "b5b7MLbUeFJN"
      },
      "source": [
        "#Lista"
      ]
    },
    {
      "cell_type": "code",
      "metadata": {
        "colab": {
          "base_uri": "https://localhost:8080/"
        },
        "id": "vK9uBgySeJoY",
        "outputId": "e9afb62e-bbfe-42b1-c1da-2b11a77980fb"
      },
      "source": [
        "frutas = [\"maça\", \"Banana\", \"Abacate\", \"Uva\"] #tem que ir entre aspas\n",
        "print(frutas)\n",
        "print(type(frutas))\n",
        "print(len(frutas))\n",
        "\n",
        "frutas[3] = \"Manga\" # Alterando valor do elemento na lista\n",
        "print(frutas)\n",
        "\n",
        "frutas.append(\"Laranja\") # Inserindo novo elemento na lista\n",
        "frutas.append(\" \") # Inserindo novo elemento na lista\n",
        "\n",
        "print(frutas)\n",
        "\n",
        "frutas.insert(0, \"Morango\")#Inserindo novo elemento na lista utlizando insert()\n",
        "print(frutas)\n",
        "\n",
        "frutas.remove(\"Morango\") # Remove informando o parametro\n",
        "print(frutas)\n",
        "\n",
        "frutas.pop(1)\n",
        "print(frutas)\n",
        "\n",
        "numeros = [1,2,3,4] # naõ pode ter aspas quanda trata se de numeros senão pode ser identificado como string ou seja texto\n",
        "print(numeros[3])\n",
        "print(len(frutas))\n",
        "\n",
        "numeros = [7,1,5,3,4, True, \"Texto\", [\"elemnto1\", \"elemento2\"]] #imprimir uma lista dentro da minha lista\n",
        "frutas.sort()\n",
        "print(frutas)\n",
        "\n",
        "numeros[7].insert(2, \"elemento3\", \"elemento2\")\n",
        "print(numeros[7][1]) #imprime minha lista mas o elemento dentro de essa lista especificamente o lugar 7 e 1\n",
        "print(len(frutas))\n",
        "\n"
      ],
      "execution_count": null,
      "outputs": [
        {
          "output_type": "stream",
          "text": [
            "['maça', 'Banana', 'Abacate', 'Uva']\n",
            "<class 'list'>\n",
            "4\n",
            "['maça', 'Banana', 'Abacate', 'Manga']\n",
            "['maça', 'Banana', 'Abacate', 'Manga', 'Laranja', ' ']\n",
            "['Morango', 'maça', 'Banana', 'Abacate', 'Manga', 'Laranja', ' ']\n",
            "['maça', 'Banana', 'Abacate', 'Manga', 'Laranja', ' ']\n",
            "['maça', 'Abacate', 'Manga', 'Laranja', ' ']\n",
            "4\n",
            "5\n",
            "[' ', 'Abacate', 'Laranja', 'Manga', 'maça']\n",
            "elemento2\n",
            "5\n"
          ],
          "name": "stdout"
        }
      ]
    },
    {
      "cell_type": "markdown",
      "metadata": {
        "id": "A5hluNhWmuFB"
      },
      "source": [
        "#Dicionario"
      ]
    },
    {
      "cell_type": "code",
      "metadata": {
        "colab": {
          "base_uri": "https://localhost:8080/"
        },
        "id": "gfMNvFcPmwqo",
        "outputId": "2213fdb0-9235-40c4-d766-17a9c3c8fa77"
      },
      "source": [
        "dicionario = {'nome':'Danilo', 'idade': 35, 'altura':1.80} # o dicionario recebe uma chave um valor\n",
        "dicionario1 = {'feira': ['banana', 'maça', 'uva'], 'nome': 'Danilo'} #colocando um nome dentro de um dicionario feira\n",
        "lista = [\"Danilo\",35,1,80] #com a lista é assim\n",
        "dicionario['cpf'] = 56689298248\n",
        "dicionario.pop('altura', None) #o pop é para remover um item\n",
        "\n",
        "print(dicionario1)\n",
        "print(dicionario)# no caso quando colocamos o pop removimos altura quando pedimos fazer o print do dicionario completo\n",
        "print(dicionario['nome'], dicionario['idade'], dicionario ['cpf'])#para fazer um print de dicionario tem que ter chaves"
      ],
      "execution_count": null,
      "outputs": [
        {
          "output_type": "stream",
          "text": [
            "{'feira': ['banana', 'maça', 'uva'], 'nome': 'Danilo'}\n",
            "{'nome': 'Danilo', 'idade': 35, 'cpf': 56689298248}\n",
            "Danilo 35 56689298248\n"
          ],
          "name": "stdout"
        }
      ]
    },
    {
      "cell_type": "markdown",
      "metadata": {
        "id": "rzMnpELrq2IG"
      },
      "source": [
        "#Laços, repetição e operadores condicionais"
      ]
    },
    {
      "cell_type": "code",
      "metadata": {
        "colab": {
          "base_uri": "https://localhost:8080/"
        },
        "id": "0lW5Rlqmq9aC",
        "outputId": "731b5ec0-b390-4a2b-9871-52ee74ead236"
      },
      "source": [
        "idade = int(input(\"Digite sua idade : \\n\")) #para que faça um print do quadro para q a pessoa digite sua idade\n",
        "amigo = bool(input(\"Voce é amigo do dono? : \\n\"))\n",
        "#print(idade) assim e so para colocar a idade\n",
        "\n",
        "if idade > 18 or amigo == \"Sim\": # e assim e para colocar se e menor de 18 não pode entrar\n",
        "  print(\"Pode entrar\")\n",
        "#elif amigo == \"Sim\"\n",
        "  print(\"Pode entrar\")\n",
        "else:\n",
        "  print(\"Va para casa\")"
      ],
      "execution_count": null,
      "outputs": [
        {
          "output_type": "stream",
          "text": [
            "Digite sua idade : \n",
            "15\n",
            "Voce é amigo do dono? : \n",
            "16\n",
            "Va para casa\n"
          ],
          "name": "stdout"
        }
      ]
    },
    {
      "cell_type": "markdown",
      "metadata": {
        "id": "mTrXws4XvScY"
      },
      "source": [
        "#Enquanto\n"
      ]
    },
    {
      "cell_type": "code",
      "metadata": {
        "colab": {
          "base_uri": "https://localhost:8080/"
        },
        "id": "cvj37VvovYU8",
        "outputId": "64a54097-dd73-4f2d-aef7-6024f6446b81"
      },
      "source": [
        "numero = 50 #while significa se for\n",
        "while numero > 10:\n",
        "  print(numero)\n",
        "  numero =  numero - 10\n",
        "print(\"Pode parar\") # tem que ter essa condição senão entre en lop eterno por esso e o 10 para ir tirando 10 de 50 ne para\n",
        "\n",
        "\n"
      ],
      "execution_count": null,
      "outputs": [
        {
          "output_type": "stream",
          "text": [
            "50\n",
            "40\n",
            "30\n",
            "20\n",
            "Pode parar\n"
          ],
          "name": "stdout"
        }
      ]
    },
    {
      "cell_type": "markdown",
      "metadata": {
        "id": "EESSkxaIwtTa"
      },
      "source": [
        "#Para cada"
      ]
    },
    {
      "cell_type": "code",
      "metadata": {
        "colab": {
          "base_uri": "https://localhost:8080/"
        },
        "id": "z1z6EA0kwwP7",
        "outputId": "8a8063e7-6287-4adb-9ac3-05dc361ce649"
      },
      "source": [
        "lista = [1,2,3,4]\n",
        "i = 1\n",
        "while i < len(lista): ##enquanto i for menor que minha lista\\ sempre ao declarar deve levar dos pontos\n",
        "  lista[i] = lista[i] + 2 # ele vai imprimir a lista mais dois\n",
        "  i = i + 1\n",
        "print(lista)\n",
        "\n",
        "lista2 = []\n",
        "for item in lista:  #for é para cada então para cada item da minha lista faça\n",
        "  lista2.append(item + 1)\n",
        "print(lista2)\n",
        "\n"
      ],
      "execution_count": 1,
      "outputs": [
        {
          "output_type": "stream",
          "text": [
            "[1, 4, 5, 6]\n",
            "[2, 5, 6, 7]\n"
          ],
          "name": "stdout"
        }
      ]
    },
    {
      "cell_type": "markdown",
      "metadata": {
        "id": "ag0OoU-tznBU"
      },
      "source": [
        "#Funções"
      ]
    },
    {
      "cell_type": "code",
      "metadata": {
        "colab": {
          "base_uri": "https://localhost:8080/"
        },
        "id": "clTlnCihzrVX",
        "outputId": "92ccbf24-c20d-42bb-817d-fa7b023a3c7b"
      },
      "source": [
        "def hello(meu_nome):\n",
        "  print(\"Ola meu nome é:\", meu_nome)\n",
        "\n",
        "hello(\"Fabio\") #chamando a função \n",
        "\n",
        "def calcular_gorjeta(valor_conta, porcentagem):\n",
        "  gorjeta = valor_conta * porcentagem\n",
        "  return gorjeta\n",
        "\n",
        "calcular_gorjeta(590, 0.1)  \n"
      ],
      "execution_count": 2,
      "outputs": [
        {
          "output_type": "stream",
          "text": [
            "Ola meu nome é: Fabio\n"
          ],
          "name": "stdout"
        },
        {
          "output_type": "execute_result",
          "data": {
            "text/plain": [
              "59.0"
            ]
          },
          "metadata": {},
          "execution_count": 2
        }
      ]
    }
  ]
}